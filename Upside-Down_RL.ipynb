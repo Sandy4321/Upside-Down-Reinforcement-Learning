{
 "cells": [
  {
   "cell_type": "markdown",
   "metadata": {},
   "source": [
    "# Training Agents using Upside-Down Reinforcement Learning"
   ]
  },
  {
   "cell_type": "markdown",
   "metadata": {},
   "source": [
    "See original papers:\n",
    "1. [Reinforcement Learning Upside Down: Don't Predict Rewards -- Just Map Them to Actions](https://arxiv.org/abs/1912.02875)\n",
    "2. [Training Agents using Upside-Down Reinforcement Learning](https://arxiv.org/abs/1912.02877)"
   ]
  },
  {
   "cell_type": "markdown",
   "metadata": {},
   "source": [
    "The content below is based on the [second paper](https://arxiv.org/abs/1912.02877), followed by my interpretation (implementation) of this content "
   ]
  },
  {
   "cell_type": "code",
   "execution_count": 1,
   "metadata": {},
   "outputs": [],
   "source": [
    "import warnings\n",
    "import numpy as np\n",
    "import torch\n",
    "import torch.nn as nn\n",
    "import torch.nn.functional as F\n",
    "from torch.optim import Adam\n",
    "from torch.distributions import Categorical\n",
    "from collections import namedtuple"
   ]
  },
  {
   "cell_type": "code",
   "execution_count": 2,
   "metadata": {},
   "outputs": [],
   "source": [
    "seed = 0\n",
    "np.random.seed(seed)\n",
    "torch.manual_seed(seed)\n",
    "\n",
    "warnings.filterwarnings(\"ignore\")\n",
    "\n",
    "# Traing on GPU if available\n",
    "device = torch.device('cuda:0' if torch.cuda.is_available() else 'cpu')"
   ]
  },
  {
   "cell_type": "code",
   "execution_count": 3,
   "metadata": {},
   "outputs": [],
   "source": [
    "# Helper function to create episodes as namedtuple\n",
    "make_episode = namedtuple('Episode', \n",
    "                          field_names=['states', \n",
    "                                       'actions', \n",
    "                                       'rewards', \n",
    "                                       'init_command', \n",
    "                                       'total_return', \n",
    "                                       'length', \n",
    "                                       ])"
   ]
  },
  {
   "cell_type": "markdown",
   "metadata": {},
   "source": [
    "# Introduction"
   ]
  },
  {
   "cell_type": "markdown",
   "metadata": {},
   "source": [
    "While there is a rich history of techniques that incorporate supervised learning (SL) into reinforcement learning (RL) algorithms, it is believed that fully solving RL problems using SL is not possible, because feedback from the environment provides error signals in SL but evaluation signals in RL. Put simply, an agent gets feedback about how useful its actions are, but not about which actions are the best to take in any situation. On the possibility of turning an RL problem into an SL problem, Barto and Dietterich surmised: _\"In general, there is no way to do this.\"_\n",
    "\n",
    "In a companion technical report, Schmidhuber proposes to bridge this gap between SL and RL through UpsideDown Reinforcement Learning (⅂ꓤ), where environmental feedback – such as the reward – is an input rather than the learning target as in traditional RL algorithms based on reward prediction. Here we develop a practical RL algorithm for episodic tasks and show that it is indeed possible to train agents in general model-free settings without using value-based algorithms such as Q-learning, or policy-based ones such as policy gradients and evolutionary algorithms. Instead, RL uses pure SL to train an agent on all past experiences, and sidesteps the issues arising from the combination of function approximation, bootstrapping and off-policy training. We first describe its basic principles, then experimentally demonstrate its practical feasibility on three RL problems with both sparse and dense reward structure."
   ]
  },
  {
   "cell_type": "markdown",
   "metadata": {},
   "source": [
    "<img src=\"images/rl_vs_udrl.png\" />"
   ]
  },
  {
   "cell_type": "markdown",
   "metadata": {},
   "source": [
    "<img src=\"images/toy_env.png\" />"
   ]
  },
  {
   "cell_type": "markdown",
   "metadata": {},
   "source": [
    "# Knowledge Representation"
   ]
  },
  {
   "cell_type": "markdown",
   "metadata": {},
   "source": [
    "Traditional model-free RL algorithms can be broadly classified as being value-based or policy-based. The core principle of value-based algorithms is reward prediction: agents are trained to predict the expected discounted future return for taking any action in any state, commonly using TD learning. Policy-based algorithms are instead based on directly searching for policies that maximize returns. The basic principle of ⅂ꓤ are different from both of these categories: given a particular definition of _commands_, it defines a _behavior function_ that encapsulates knowledge about the behaviors observed so far compatible with known commands. The nature of the behavior function is explained using two examples below."
   ]
  },
  {
   "cell_type": "markdown",
   "metadata": {},
   "source": [
    "### Example 1"
   ]
  },
  {
   "cell_type": "markdown",
   "metadata": {},
   "source": [
    "Consider a simple dart-throwing environment where each episode lasts a single step. An agent learning to throw darts receives a return inversely proportional to the hit distance from the center of the board. In each episode, the agent observes the initial state of the dart, and takes an action that determines the force and direction of the throw. Using value-based RL for this task would amount to training the agent to predict the expected return for various actions and initial states. This knowledge would then be used for action selection e.g. taking the action with the highest expected return.\n",
    "\n",
    "In ⅂ꓤ, the agent’s knowledge is represented not in terms of expected returns for various states and actions, but in terms of actions that are compatible with various states and desired returns i.e. the inputs and targets of the agent’s learning procedure are switched. The dart throwing agent would be trained to directly produce the actions for hitting desired locations on the board, using a behavior function B<sup>2</sup> learned using its past experience. Figure 1 schematically illustrates this difference between B and the Q-value function commonly used in value based RL. Since this environment consists of episodes with a single time step, both Q and B can be learned using SL. \n",
    "\n",
    "The next example illustrates a slightly more typical RL setting with longer time horizons."
   ]
  },
  {
   "cell_type": "markdown",
   "metadata": {},
   "source": [
    "### Example 2"
   ]
  },
  {
   "cell_type": "markdown",
   "metadata": {},
   "source": [
    "Consider the simple deterministic Markovian environment in Figure 2 in which all trajectories start in s<sub>0</sub> or s<sub>1</sub> and end in s<sub>2</sub> or s<sub>3</sub>. Additionally consider commands of the type: achieve a given desired return in a given desired horizon from the current state. A behavior function based on the set of all unique behaviors possible in this environment can then be expressed in a tabular form in Table 1. It maps states and commands to the action to be taken in that state compatible with executing the command. In other words, it answers the question: _\"if an agent is in a given state and desires a given return over a given horizon, which action should it take next?\"_ By design, this function can now be used to execute any valid command in the environment without further knowledge.\n",
    "\n",
    "Two properties of the behavior function are notable. First, the output of B can be stochastic even in a deterministic environment since there may be multiple valid behaviors compatible with the same command and state. For example, this would be the case if the transition s<sub>0</sub> → s<sub>2</sub> had a reward of 2. So in general, B produces a probability distribution over actions. Second, B fundamentally depends on the set of trajectories used to construct it. Using a loss function _L_, we define the optimal behavior function B<sup>∗</sup><sub>Т</sub> for a set of trajectories Т as"
   ]
  },
  {
   "cell_type": "markdown",
   "metadata": {},
   "source": [
    "<p><img src=\"images/optimal_B.png\" width=\"320\" /></p>"
   ]
  },
  {
   "cell_type": "markdown",
   "metadata": {},
   "source": [
    "Here len(τ) is the length of any trajectory τ. For a suitably parameterized B, we use the cross-entropy between the observed and predicted distributions of actions as the loss function. Equivalently, we search for parameters that maximize the likelihood that the behavior function generates the available data, using the traditional tools of supervised learning. Similarly, we can define a behavior function over a policy. Instead of a set of trajectories, B<sup>∗</sup><sub>π</sub> minimizes the same loss over the distribution of trajectories generated when acting according to π."
   ]
  },
  {
   "cell_type": "markdown",
   "metadata": {},
   "source": [
    "# ⅂ꓤ Algorithm for Maximizing Episodic Returns"
   ]
  },
  {
   "cell_type": "markdown",
   "metadata": {},
   "source": [
    "In principle, a behavior function can be learned for any policy that generates all possible trajectories in an environment given suficient time (e.g. a random policy) and then used to select actions that lead to any desired return in a desired horizon achievable in the environment. But such a learning procedure is not practical since it relies on undirected exploration using a fixed policy. Moreover, in environments with scalar rewards, the goal is to learn to achieve high returns and not to achieve any possible return over any horizon. Therefore, the concrete algorithm used in this paper trains a behavior function on the set of trajectories (or the agent’s experience) so far and incorporates minimal additions that enable the continual collection of trajectories with higher returns."
   ]
  },
  {
   "cell_type": "markdown",
   "metadata": {},
   "source": [
    "<img src=\"images/udrl_algo1.png\" />"
   ]
  },
  {
   "cell_type": "markdown",
   "metadata": {},
   "source": [
    "High-level pseudo-code for the proposed algorithm is described in Algorithm 1. It starts by initializing an empty replay buffer to collect the agent’s experiences during training, and filling it with a few episodes of random interactions. The behavior function of the agent is continually improved by supervised training on previous experiences recorded in the replay buffer. After each training phase, the behavior function is used to act in the environment to obtain new experiences that are added to the replay buffer. This procedure continues until a stopping criterion is met, such as reaching the allowed maximum number of interactions with the environment. The remainder of this section describes each step of the algorithm and introduces the hyperparameters."
   ]
  },
  {
   "cell_type": "code",
   "execution_count": 4,
   "metadata": {},
   "outputs": [],
   "source": [
    "def initialize_replay_buffer(replay_size, n_episodes, last_few):\n",
    "    '''\n",
    "    Initialize replay buffer with warm-up episodes using random actions.\n",
    "    See section 2.3.1\n",
    "    \n",
    "    Params:\n",
    "        replay_size (int)\n",
    "        n_episodes (int)\n",
    "        last_few (int)\n",
    "    \n",
    "    Returns:\n",
    "        ReplayBuffer instance\n",
    "        \n",
    "    '''\n",
    "    \n",
    "    # This policy will generate random actions. Won't need state nor command\n",
    "    random_policy = lambda state, command: np.random.randint(env.action_space.n)\n",
    "    \n",
    "    buffer = ReplayBuffer(replay_size)\n",
    "    \n",
    "    for i in range(n_episodes):\n",
    "        command = sample_command(buffer, last_few)\n",
    "        episode = generate_episode(env, random_policy, command) # See Algorithm 2\n",
    "        buffer.add(episode)\n",
    "    \n",
    "    buffer.sort()\n",
    "    return buffer\n",
    "\n",
    "def initialize_behavior_function(state_size, \n",
    "                                 action_size, \n",
    "                                 hidden_size, \n",
    "                                 learning_rate, \n",
    "                                 command_scale):\n",
    "    '''\n",
    "    Initialize the behaviour function. See section 2.3.2\n",
    "    \n",
    "    Params:\n",
    "        state_size (int)\n",
    "        action_size (int)\n",
    "        hidden_size (int) -- NOTE: not used at the moment\n",
    "        learning_rate (float)\n",
    "        command_scale (List of float)\n",
    "    \n",
    "    Returns:\n",
    "        Behavior instance\n",
    "    \n",
    "    '''\n",
    "    \n",
    "    behavior = Behavior(state_size, \n",
    "                        action_size, \n",
    "                        hidden_size, \n",
    "                        command_scale)\n",
    "    \n",
    "    behavior.init_optimizer(lr=learning_rate)\n",
    "    \n",
    "    return behavior\n",
    "\n",
    "def generate_episodes(env, behavior, buffer, n_episodes, last_few):\n",
    "    '''\n",
    "    1. Sample exploratory commands based on replay buffer\n",
    "    2. Generate episodes using Algorithm 2 and add to replay buffer\n",
    "    \n",
    "    Params:\n",
    "        env (OpenAI Gym Environment)\n",
    "        behavior (Behavior)\n",
    "        buffer (ReplayBuffer)\n",
    "        n_episodes (int)\n",
    "        last_few (int):\n",
    "            how many episodes we use to calculate the desired return and horizon\n",
    "    '''\n",
    "    \n",
    "    stochastic_policy = lambda state, command: behavior.action(state, command)\n",
    "    \n",
    "    for i in range(n_episodes_per_iter):\n",
    "        command = sample_command(buffer, last_few)\n",
    "        episode = generate_episode(env, stochastic_policy, command) # See Algorithm 2\n",
    "        buffer.add(episode)\n",
    "    \n",
    "    # Let's keep this buffer sorted\n",
    "    buffer.sort()"
   ]
  },
  {
   "cell_type": "code",
   "execution_count": 5,
   "metadata": {},
   "outputs": [],
   "source": [
    "def UDRL(env, buffer=None, behavior=None, learning_history=[]):\n",
    "    '''\n",
    "    Upside-Down Reinforcement Learning main algrithm\n",
    "    \n",
    "    Params:\n",
    "        env (OpenAI Gym Environment)\n",
    "        buffer (ReplayBuffer):\n",
    "            if not passed in, new buffer is created\n",
    "        behavior (Behavior):\n",
    "            if not passed in, new behavior is created\n",
    "        learning_history (List of dict) -- default []\n",
    "    '''\n",
    "    \n",
    "    if buffer is None:\n",
    "        buffer = initialize_replay_buffer(replay_size, \n",
    "                                          n_warm_up_episodes, \n",
    "                                          last_few)\n",
    "    \n",
    "    if behavior is None:\n",
    "        behavior = initialize_behavior_function(state_size, \n",
    "                                                action_size, \n",
    "                                                hidden_size, \n",
    "                                                learning_rate, \n",
    "                                                [return_scale, horizon_scale])\n",
    "    \n",
    "    for i in range(1, n_main_iter+1):\n",
    "        mean_loss = train_behavior(behavior, buffer, n_updates_per_iter, batch_size)\n",
    "        \n",
    "        print('Iter: {}, Loss: {:.4f}'.format(i, mean_loss), end='\\r')\n",
    "        \n",
    "        # Sample exploratory commands and generate episodes\n",
    "        generate_episodes(env, \n",
    "                          behavior, \n",
    "                          buffer, \n",
    "                          n_episodes_per_iter,\n",
    "                          last_few)\n",
    "        \n",
    "        if i % evaluate_every == 0:\n",
    "            command = sample_command(buffer, last_few)\n",
    "            mean_return = evaluate_agent(env, behavior, command)\n",
    "            \n",
    "            learning_history.append({\n",
    "                'training_loss': mean_loss,\n",
    "                'desired_return': command[0],\n",
    "                'desired_horizon': command[1],\n",
    "                'actual_return': mean_return,\n",
    "            })\n",
    "            \n",
    "            if stop_on_solved and mean_return >= target_return: \n",
    "                break\n",
    "    \n",
    "    return behavior, buffer, learning_history"
   ]
  },
  {
   "cell_type": "markdown",
   "metadata": {},
   "source": [
    "## Replay Buffer\n",
    "\n",
    "RL does not explicitly maximize returns, but instead relies on exploration to continually discover higher return trajectories so that the behavior function can be trained on them. To drive learning progress, we found it helpful to use a replay buffer containing a fixed maximum number of trajectories with the highest returns seen so far, sorted in increasing order by return. The maximum buffer size is a hyperparameter. Since the agent starts learning with zero experience, an initial set of trajectories is generated by executing random actions in the environment. The trajectories are added to the replay buffer and used to start training the agent’s behavior function."
   ]
  },
  {
   "cell_type": "code",
   "execution_count": 6,
   "metadata": {},
   "outputs": [],
   "source": [
    "class ReplayBuffer():\n",
    "    '''\n",
    "    Replay buffer containing a fixed maximun number of trajectories with \n",
    "    the highest returns seen so far\n",
    "    \n",
    "    Params:\n",
    "        size (int)\n",
    "    \n",
    "    Attrs:\n",
    "        size (int)\n",
    "        buffer (List of episodes)\n",
    "    '''\n",
    "    \n",
    "    def __init__(self, size=0):\n",
    "        self.size = size\n",
    "        self.buffer = []\n",
    "        \n",
    "    def add(self, episode):\n",
    "        '''\n",
    "        Params:\n",
    "            episode (namedtuple):\n",
    "                (states, actions, rewards, init_command, total_return, length)\n",
    "        '''\n",
    "        \n",
    "        self.buffer.append(episode)\n",
    "    \n",
    "    def get(self, num):\n",
    "        '''\n",
    "        Params:\n",
    "            num (int):\n",
    "                get the last `num` episodes from the buffer\n",
    "        '''\n",
    "        \n",
    "        return self.buffer[-num:]\n",
    "    \n",
    "    def random_batch(self, batch_size):\n",
    "        '''\n",
    "        Params:\n",
    "            batch_size (int)\n",
    "        \n",
    "        Returns:\n",
    "            Random batch of episodes from the buffer\n",
    "        '''\n",
    "        \n",
    "        idxs = np.random.randint(0, len(self), batch_size)\n",
    "        return [self.buffer[idx] for idx in idxs]\n",
    "    \n",
    "    def sort(self):\n",
    "        '''Keep the buffer sorted in ascending order by total return'''\n",
    "        \n",
    "        key_sort = lambda episode: episode.total_return\n",
    "        self.buffer = sorted(self.buffer, key=key_sort)[-self.size:]\n",
    "    \n",
    "    def save(self, filename):\n",
    "        '''Save the buffer in numpy format\n",
    "        \n",
    "        Param:\n",
    "            filename (str)\n",
    "        '''\n",
    "        \n",
    "        np.save(filename, self.buffer)\n",
    "    \n",
    "    def load(self, filename):\n",
    "        '''Load a numpy format file\n",
    "        \n",
    "        Params:\n",
    "            filename (str)\n",
    "        '''\n",
    "        \n",
    "        raw_buffer = np.load(filename)\n",
    "        self.size = len(raw_buffer)\n",
    "        self.buffer = \\\n",
    "            [make_episode(episode[0], episode[1], episode[2], episode[3], episode[4], episode[5]) \\\n",
    "             for episode in raw_buffer]\n",
    "    \n",
    "    def __len__(self):\n",
    "        '''\n",
    "        Returns:\n",
    "            Size of the buffer\n",
    "        '''\n",
    "        return len(self.buffer)"
   ]
  },
  {
   "cell_type": "markdown",
   "metadata": {},
   "source": [
    "## Behavior Function and Setup\n",
    "\n",
    "As described earlier, at any time t during an episode, the current behavior function B produces an action distribution in response to the current state st and command c<sub>t</sub> = (d<sup>r</sup><sub>t</sub>, d<sup>h</sup><sub>t</sub>), where d<sup>r</sup><sub>t</sub> ∈ R is the desired return and d<sup>h</sup><sub>t</sub> ∈ N is the desired time horizon at time t. The predicted action distribution _P_(a<sub>t</sub> | s<sub>t</sub>, c<sub>t</sub>) = _B_(s<sub>t</sub>, c<sub>t</sub>; θ), where θ denotes a vector of trainable parameters, is expected to lead to successful execution of the command ct interpreted as: “achieve a return d<sup>r</sup><sub>t</sub> during the next d<sup>h</sup><sub>t</sub> steps”. For a given initial command input c<sub>0</sub>, _B_ can be used to generate a trajectory using Algorithm 2 by sampling actions predicted for the current command and updating the command according to the obtained rewards and elapsed time.\n",
    "\n",
    "An important implementation detail is that d<sup>h</sup><sub>t</sub> is always set to max(d<sup>h</sup><sub>t</sub>, 1) such that it is a valid time horizon. Furthermore, d<sup>r</sup><sub>t</sub> is clipped such that it is upper-bounded by the maximum return achievable in the environment. This only affects agent evaluations (not training) and avoids situations where negative rewards (rt) can lead to desired returns that are not achievable from any state (see Algorithm 2; line 8).\n",
    "\n",
    "All agents were implemented using articial neural networks. The behavior function for UDRL agents was implemented using fully-connected feed-forward networks for LunarLander-v2, and convolutional neural networks (CNNs; 16) for TakeCover-v0. The command inputs were scaled by a fixed scaling factor, transformed by a fully-connected sigmoidal layer, and then multiplied element-wise with an embedding of the observed inputs (after the first layer for fully-connected networks; after all convolutional layers for CNNs). Apart from this small modification regarding UDRL command inputs, the network architectures were identical for all algorithms."
   ]
  },
  {
   "cell_type": "code",
   "execution_count": 7,
   "metadata": {},
   "outputs": [],
   "source": [
    "class Behavior(nn.Module):\n",
    "    '''\n",
    "    Behavour function that produces actions based on a state and command.\n",
    "    NOTE: At the moment I'm fixing the amount of units and layers.\n",
    "    TODO: Make hidden layers configurable.\n",
    "    \n",
    "    Params:\n",
    "        state_size (int)\n",
    "        action_size (int)\n",
    "        hidden_size (int) -- NOTE: not used at the moment\n",
    "        command_scale (List of float)\n",
    "    '''\n",
    "    \n",
    "    def __init__(self, \n",
    "                 state_size, \n",
    "                 action_size, \n",
    "                 hidden_size, \n",
    "                 command_scale = [1, 1]):\n",
    "        super().__init__()\n",
    "        \n",
    "        self.command_scale = torch.FloatTensor(command_scale).to(device)\n",
    "        \n",
    "        self.state_fc = nn.Sequential(nn.Linear(state_size, 64), \n",
    "                                      nn.Tanh())\n",
    "        \n",
    "        self.command_fc = nn.Sequential(nn.Linear(2, 64), \n",
    "                                        nn.Sigmoid())\n",
    "        \n",
    "        self.output_fc = nn.Sequential(nn.Linear(64, 128), \n",
    "                                       nn.ReLU(), \n",
    "#                                        nn.Dropout(0.2),\n",
    "                                       nn.Linear(128, 128), \n",
    "                                       nn.ReLU(), \n",
    "#                                        nn.Dropout(0.2),\n",
    "                                       nn.Linear(128, 128), \n",
    "                                       nn.ReLU(), \n",
    "                                       nn.Linear(128, action_size))\n",
    "        \n",
    "        self.to(device)\n",
    "        \n",
    "    \n",
    "    def forward(self, state, command):\n",
    "        '''Forward pass\n",
    "        \n",
    "        Params:\n",
    "            state (List of float)\n",
    "            command (List of float)\n",
    "        \n",
    "        Returns:\n",
    "            FloatTensor -- action logits\n",
    "        '''\n",
    "        \n",
    "        state_output = self.state_fc(state)\n",
    "        command_output = self.command_fc(command * self.command_scale)\n",
    "        embedding = torch.mul(state_output, command_output)\n",
    "        return self.output_fc(embedding)\n",
    "    \n",
    "    def action(self, state, command):\n",
    "        '''\n",
    "        Params:\n",
    "            state (List of float)\n",
    "            command (List of float)\n",
    "            \n",
    "        Returns:\n",
    "            int -- stochastic action\n",
    "        '''\n",
    "        \n",
    "        logits = self.forward(state, command)\n",
    "        probs = F.softmax(logits, dim=-1)\n",
    "        dist = Categorical(probs)\n",
    "        return dist.sample().item()\n",
    "    \n",
    "    def greedy_action(self, state, command):\n",
    "        '''\n",
    "        Params:\n",
    "            state (List of float)\n",
    "            command (List of float)\n",
    "            \n",
    "        Returns:\n",
    "            int -- greedy action\n",
    "        '''\n",
    "        \n",
    "        logits = self.forward(state, command)\n",
    "        probs = F.softmax(logits, dim=-1)\n",
    "        return np.argmax(probs.detach().cpu().numpy())\n",
    "    \n",
    "    def init_optimizer(self, optim=Adam, lr=0.003):\n",
    "        '''Initialize GD optimizer\n",
    "        \n",
    "        Params:\n",
    "            optim (Optimizer) -- default Adam\n",
    "            lr (float) -- default 0.003\n",
    "        '''\n",
    "        \n",
    "        self.optim = optim(self.parameters(), lr=lr)\n",
    "    \n",
    "    def save(self, filename):\n",
    "        '''Save the model's parameters\n",
    "        Param:\n",
    "            filename (str)\n",
    "        '''\n",
    "        \n",
    "        torch.save(self.state_dict(), filename)\n",
    "    \n",
    "    def load(self, filename):\n",
    "        '''Load the model's parameters\n",
    "        \n",
    "        Params:\n",
    "            filename (str)\n",
    "        '''\n",
    "        \n",
    "        self.load_state_dict(torch.load(filename))"
   ]
  },
  {
   "cell_type": "markdown",
   "metadata": {},
   "source": [
    "<img src=\"images/udrl_algo2.png\" />"
   ]
  },
  {
   "cell_type": "code",
   "execution_count": 8,
   "metadata": {},
   "outputs": [],
   "source": [
    "def generate_episode(env, policy, init_command=[1, 1]):\n",
    "    '''\n",
    "    Generate an episode using the Behaviour function.\n",
    "    \n",
    "    Params:\n",
    "        env (OpenAI Gym Environment)\n",
    "        policy (func)\n",
    "        init_command (List of float) -- default [1, 1]\n",
    "    \n",
    "    Returns:\n",
    "        Namedtuple (states, actions, rewards, init_command, total_return, length)\n",
    "    '''\n",
    "    \n",
    "    command = init_command.copy()\n",
    "    desired_return = command[0]\n",
    "    desired_horizon = command[1]\n",
    "    \n",
    "    states = []\n",
    "    actions = []\n",
    "    rewards = []\n",
    "    \n",
    "    time_steps = 0\n",
    "    done = False\n",
    "    total_rewards = 0\n",
    "    state = env.reset().tolist()\n",
    "    \n",
    "    while not done:\n",
    "        state_input = torch.FloatTensor(state).to(device)\n",
    "        command_input = torch.FloatTensor(command).to(device)\n",
    "        action = policy(state_input, command_input)\n",
    "        next_state, reward, done, _ = env.step(action)\n",
    "        \n",
    "        # Modifying a bit the reward function punishing the agent, -100, \n",
    "        # if it reaches hyperparam max_steps. The reason I'm doing this \n",
    "        # is because I noticed that the agent tends to gather points by \n",
    "        # landing the spaceshipt and getting out and back in the landing \n",
    "        # area over and over again, never switching off the engines. \n",
    "        # The longer it does that the more reward it gathers. Later on in \n",
    "        # the training it realizes that it can get more points by turning \n",
    "        # off the engines, but takes more epochs to get to that conclusion.\n",
    "        if not done and time_steps > max_steps:\n",
    "            done = True\n",
    "            reward = max_steps_reward\n",
    "        \n",
    "        # Sparse rewards. Cumulative reward is delayed until the end of each episode\n",
    "#         total_rewards += reward\n",
    "#         reward = total_rewards if done else 0.0\n",
    "        \n",
    "        states.append(state)\n",
    "        actions.append(action)\n",
    "        rewards.append(reward)\n",
    "        \n",
    "        state = next_state.tolist()\n",
    "        \n",
    "        # Clipped such that it's upper-bounded by the maximum return achievable in the env\n",
    "        desired_return = min(desired_return - reward, max_reward)\n",
    "        \n",
    "        # Make sure it's always a valid horizon\n",
    "        desired_horizon = max(desired_horizon - 1, 1)\n",
    "    \n",
    "        command = [desired_return, desired_horizon]\n",
    "        time_steps += 1\n",
    "        \n",
    "    return make_episode(states, actions, rewards, init_command, sum(rewards), time_steps)"
   ]
  },
  {
   "cell_type": "markdown",
   "metadata": {},
   "source": [
    "# Training the Behavior Function\n",
    "\n",
    "As discussed in Section 2.2, _B_ admits supervised training on a large amount of input-target examples from any past episode. The goal of training is to make the behavior function produce outputs consistent with all previously recorded trajectories in the replay buffer according to Equation 1. \n",
    "\n",
    "To draw a training example from a random episode in the replay buffer, time step indices t1 and t2 are selected\n",
    "randomly such that 0 ≤ t1 < t2 ≤ T, where T is the length of the selected episode. Then the input for training _B_ is\n",
    "(s<sub>t1</sub>, (d<sup>r</sup>, d<sup>h</sup>)), where d<sup>r</sup> = ∑ r<sub>t</sub> and d<sup>h</sup> = t2 − t1, and the target is a<sub>t1</sub>, the action taken at t1. To summarize, the training examples are generated by selecting the time horizons, actions, observations and rewards in the past, and generating input-target pairs consistent with them.\n",
    "\n",
    "Several heuristics may be used to select and combine training examples into mini-batches for gradient-based SL. For\n",
    "all experiments in this paper, only \"trailing segments\" were sampled from each episode, i.e., we set t2 = T − 1 where\n",
    "T is the length of any episode. This discards a large amount of potential training examples but is a good fit for episodic tasks where the goal is to optimize the total reward until the end of each episode. It also makes training easier, since the behavior function only needs to learn to execute a subset of possible commands. To keep the setup simple, a fixed number of training iterations using Adam were performed in each training step for all experiments."
   ]
  },
  {
   "cell_type": "code",
   "execution_count": 9,
   "metadata": {},
   "outputs": [],
   "source": [
    "def train_behavior(behavior, buffer, n_updates, batch_size):\n",
    "    '''Training loop\n",
    "    \n",
    "    Params:\n",
    "        behavior (Behavior)\n",
    "        buffer (ReplayBuffer)\n",
    "        n_updates (int):\n",
    "            how many updates we're gonna perform\n",
    "        batch_size (int):\n",
    "            size of the bacth we're gonna use to train on\n",
    "    \n",
    "    Returns:\n",
    "        float -- mean loss after all the updates\n",
    "    '''\n",
    "    all_loss = []\n",
    "    for update in range(n_updates):\n",
    "        episodes = buffer.random_batch(batch_size)\n",
    "        \n",
    "        batch_states = []\n",
    "        batch_commands = []\n",
    "        batch_actions = []\n",
    "        \n",
    "        for episode in episodes:\n",
    "            T = episode.length\n",
    "            t1 = np.random.randint(0, T)\n",
    "            t2 = np.random.randint(t1+1, T+1)\n",
    "            dr = sum(episode.rewards[t1:t2])\n",
    "            dh = t2 - t1\n",
    "            \n",
    "            st1 = episode.states[t1]\n",
    "            at1 = episode.actions[t1]\n",
    "            \n",
    "            batch_states.append(st1)\n",
    "            batch_actions.append(at1)\n",
    "            batch_commands.append([dr, dh])\n",
    "        \n",
    "        batch_states = torch.FloatTensor(batch_states).to(device)\n",
    "        batch_commands = torch.FloatTensor(batch_commands).to(device)\n",
    "        batch_actions = torch.LongTensor(batch_actions).to(device)\n",
    "        \n",
    "        pred = behavior(batch_states, batch_commands)\n",
    "        \n",
    "        loss = F.cross_entropy(pred, batch_actions)\n",
    "        \n",
    "        behavior.optim.zero_grad()\n",
    "        loss.backward()\n",
    "        behavior.optim.step()\n",
    "        \n",
    "        all_loss.append(loss.item())\n",
    "    \n",
    "    return np.mean(all_loss)"
   ]
  },
  {
   "cell_type": "markdown",
   "metadata": {},
   "source": [
    "## Sampling Exploratory Commands\n",
    "\n",
    "After each training phase, the agent can attempt to generate new, previously infeasible behavior, potentially achieving higher returns. To profit from such exploration through generalization, one must first create a set of new initial commands c0 to be used in Algorithm 2. We use the following procedure to sample commands:\n",
    "\n",
    "1. A number of episodes from the end of the replay buffer (i.e., with the highest returns) are selected. This number is a hyperparameter and remains fixed during training.\n",
    "\n",
    "2. The exploratory desired horizon d<sup>h</sup><sub>0</sub> is set to the mean of the lengths of the selected episodes.\n",
    "\n",
    "3. The exploratory desired returns d<sup>r</sup><sub>0</sub> are sampled from the uniform distribution U\\[M, M + S\\] where M is the mean and S is the standard deviation of the selected episodic returns."
   ]
  },
  {
   "cell_type": "code",
   "execution_count": 10,
   "metadata": {},
   "outputs": [],
   "source": [
    "def sample_command(buffer, last_few):\n",
    "    '''Sample a exploratory command\n",
    "    \n",
    "    Params:\n",
    "        buffer (ReplayBuffer)\n",
    "        last_few:\n",
    "            how many episodes we're gonna look at to calculate \n",
    "            the desired return and horizon.\n",
    "    \n",
    "    Returns:\n",
    "        List of float -- command\n",
    "    '''\n",
    "    if len(buffer) == 0: return [1, 1]\n",
    "    \n",
    "    # 1.\n",
    "    commands = buffer.get(last_few)\n",
    "    \n",
    "    # 2.\n",
    "    lengths = [command.length for command in commands]\n",
    "    desired_horizon = round(np.mean(lengths))\n",
    "    \n",
    "    # 3.\n",
    "    returns = [command.total_return for command in commands]\n",
    "    mean_return, std_return = np.mean(returns), np.std(returns)\n",
    "    desired_return = np.random.uniform(mean_return, mean_return+std_return)\n",
    "    \n",
    "    return [desired_return, desired_horizon]"
   ]
  },
  {
   "cell_type": "markdown",
   "metadata": {},
   "source": [
    "## Evaluation"
   ]
  },
  {
   "cell_type": "markdown",
   "metadata": {},
   "source": [
    "Algorithm 2 is also used to evaluate the agent at any time using evaluation commands derived from the most recent\n",
    "exploratory commands. The initial desired return d<sup>r</sup><sub>0</sub> is set to the lower bound of the desired returns from the most recent exploratory command, and the initial desired horizon d<sup>h</sup><sub>0</sub> from the most recent exploratory command is reused. In certain conditions, greedy actions – using the mode of the action distribution – can also be used, but we omit this option here for simplicity."
   ]
  },
  {
   "cell_type": "code",
   "execution_count": 11,
   "metadata": {},
   "outputs": [],
   "source": [
    "def evaluate_agent(env, behavior, command, render=False):\n",
    "    '''\n",
    "    Evaluate the agent performance by running an episode\n",
    "    following Algorithm 2 steps\n",
    "    \n",
    "    Params:\n",
    "        env (OpenAI Gym Environment)\n",
    "        behavior (Behavior)\n",
    "        command (List of float)\n",
    "        render (bool) -- default False:\n",
    "            will render the environment to visualize the agent performance\n",
    "    '''\n",
    "    behavior.eval()\n",
    "    \n",
    "    print('\\nEvaluation.', end=' ')\n",
    "        \n",
    "    desired_return = command[0]\n",
    "    desired_horizon = command[1]\n",
    "    \n",
    "    print('Desired return: {:.2f}, Desired horizon: {:.2f}.'.format(desired_return, desired_horizon), end=' ')\n",
    "    \n",
    "    all_rewards = []\n",
    "    \n",
    "    for e in range(n_evals):\n",
    "        \n",
    "        done = False\n",
    "        total_reward = 0\n",
    "        state = env.reset().tolist()\n",
    "    \n",
    "        while not done:\n",
    "            if render: env.render()\n",
    "            \n",
    "            state_input = torch.FloatTensor(state).to(device)\n",
    "            command_input = torch.FloatTensor(command).to(device)\n",
    "\n",
    "            action = behavior.greedy_action(state_input, command_input)\n",
    "            next_state, reward, done, _ = env.step(action)\n",
    "\n",
    "            total_reward += reward\n",
    "            state = next_state.tolist()\n",
    "\n",
    "            desired_return = min(desired_return - reward, max_reward)\n",
    "            desired_horizon = max(desired_horizon - 1, 1)\n",
    "\n",
    "            command = [desired_return, desired_horizon]\n",
    "        \n",
    "        if render: env.close()\n",
    "        \n",
    "        all_rewards.append(total_reward)\n",
    "    \n",
    "    mean_return = np.mean(all_rewards)\n",
    "    print('Reward achieved: {:.2f}'.format(mean_return))\n",
    "    \n",
    "    behavior.train()\n",
    "    \n",
    "    return mean_return"
   ]
  },
  {
   "cell_type": "markdown",
   "metadata": {},
   "source": [
    "---"
   ]
  },
  {
   "cell_type": "markdown",
   "metadata": {},
   "source": [
    "# Running Experiments"
   ]
  },
  {
   "cell_type": "code",
   "execution_count": 12,
   "metadata": {},
   "outputs": [
    {
     "name": "stdout",
     "output_type": "stream",
     "text": [
      "\u001b[33mWARN: gym.spaces.Box autodetected dtype as <class 'numpy.float32'>. Please provide explicit dtype.\u001b[0m\n"
     ]
    }
   ],
   "source": [
    "import gym\n",
    "import rocket_lander_gym\n",
    "\n",
    "env = gym.make('LunarLander-v2') # RocketLander-v0 | LunarLander-v2 | MountainCar-v0 | CartPole-v0\n",
    "_ = env.seed(seed)"
   ]
  },
  {
   "cell_type": "code",
   "execution_count": 13,
   "metadata": {},
   "outputs": [
    {
     "name": "stdout",
     "output_type": "stream",
     "text": [
      "State size: 8\n",
      "Action size: 4\n"
     ]
    }
   ],
   "source": [
    "state_size = env.observation_space.shape[0]\n",
    "action_size = env.action_space.n\n",
    "print('State size: {}'.format(state_size))\n",
    "print('Action size: {}'.format(action_size))"
   ]
  },
  {
   "cell_type": "markdown",
   "metadata": {},
   "source": [
    "## Upside-Down RL Hyperparameters"
   ]
  },
  {
   "cell_type": "code",
   "execution_count": 14,
   "metadata": {},
   "outputs": [],
   "source": [
    "# Number of iterations in the main loop\n",
    "n_main_iter = 700\n",
    "\n",
    "# Number of (input, target) pairs per batch used for training the behavior function\n",
    "batch_size = 768\n",
    "\n",
    "# Scaling factor for desired horizon input\n",
    "horizon_scale = 0.01\n",
    "\n",
    "# Number of episodes from the end of the replay buffer used for sampling exploratory\n",
    "# commands\n",
    "last_few = 75\n",
    "\n",
    "# Learning rate for the ADAM optimizer\n",
    "learning_rate = 0.0003\n",
    "\n",
    "# Number of exploratory episodes generated per step of UDRL training\n",
    "n_episodes_per_iter = 20\n",
    "\n",
    "# Number of gradient-based updates of the behavior function per step of UDRL training\n",
    "n_updates_per_iter = 100\n",
    "\n",
    "# Number of warm up episodes at the beginning of training\n",
    "n_warm_up_episodes = 10\n",
    "\n",
    "# Maximum size of the replay buffer (in episodes)\n",
    "replay_size = 500\n",
    "\n",
    "# Scaling factor for desired return input\n",
    "return_scale = 0.02\n",
    "\n",
    "# Evaluate the agent after `evaluate_every` iterations\n",
    "evaluate_every = 10\n",
    "\n",
    "# Target return before breaking out of the training loop\n",
    "target_return = 200\n",
    "\n",
    "# Maximun reward given by the environment\n",
    "max_reward = 250\n",
    "\n",
    "# Maximun steps allowed\n",
    "max_steps = 300\n",
    "\n",
    "# Reward after reaching `max_steps` (punishment, hence negative reward)\n",
    "max_steps_reward = -50\n",
    "\n",
    "# Hidden units\n",
    "hidden_size = 32\n",
    "\n",
    "# Times we evaluate the agent\n",
    "n_evals = 1\n",
    "\n",
    "# Will stop the training when the agent gets `target_return` `n_evals` times\n",
    "stop_on_solved = False"
   ]
  },
  {
   "cell_type": "code",
   "execution_count": 15,
   "metadata": {},
   "outputs": [
    {
     "name": "stdout",
     "output_type": "stream",
     "text": [
      "Iter: 10, Loss: 1.3515\n",
      "Evaluation. Desired return: -114.23, Desired horizon: 81.00. Reward achieved: -277.16\n",
      "Iter: 20, Loss: 1.3467\n",
      "Evaluation. Desired return: -109.53, Desired horizon: 78.00. Reward achieved: -238.50\n",
      "Iter: 30, Loss: 1.3469\n",
      "Evaluation. Desired return: -87.22, Desired horizon: 82.00. Reward achieved: -171.61\n",
      "Iter: 40, Loss: 1.3465\n",
      "Evaluation. Desired return: -59.08, Desired horizon: 83.00. Reward achieved: -145.29\n",
      "Iter: 50, Loss: 1.3374\n",
      "Evaluation. Desired return: -58.58, Desired horizon: 85.00. Reward achieved: -163.28\n",
      "Iter: 60, Loss: 1.3319\n",
      "Evaluation. Desired return: -69.98, Desired horizon: 86.00. Reward achieved: -154.89\n",
      "Iter: 70, Loss: 1.3249\n",
      "Evaluation. Desired return: -53.06, Desired horizon: 88.00. Reward achieved: -134.92\n",
      "Iter: 80, Loss: 1.3156\n",
      "Evaluation. Desired return: -70.47, Desired horizon: 89.00. Reward achieved: -163.36\n",
      "Iter: 90, Loss: 1.3083\n",
      "Evaluation. Desired return: -56.87, Desired horizon: 89.00. Reward achieved: -131.48\n",
      "Iter: 100, Loss: 1.3052\n",
      "Evaluation. Desired return: -58.57, Desired horizon: 90.00. Reward achieved: -102.41\n",
      "Iter: 110, Loss: 1.2977\n",
      "Evaluation. Desired return: -57.93, Desired horizon: 94.00. Reward achieved: -63.43\n",
      "Iter: 120, Loss: 1.2932\n",
      "Evaluation. Desired return: -44.38, Desired horizon: 95.00. Reward achieved: -132.89\n",
      "Iter: 130, Loss: 1.2853\n",
      "Evaluation. Desired return: -41.86, Desired horizon: 98.00. Reward achieved: -133.97\n",
      "Iter: 140, Loss: 1.2828\n",
      "Evaluation. Desired return: -49.22, Desired horizon: 100.00. Reward achieved: -132.70\n",
      "Iter: 150, Loss: 1.2710\n",
      "Evaluation. Desired return: -37.25, Desired horizon: 99.00. Reward achieved: -69.52\n",
      "Iter: 160, Loss: 1.2624\n",
      "Evaluation. Desired return: -21.25, Desired horizon: 101.00. Reward achieved: -135.71\n",
      "Iter: 170, Loss: 1.2560\n",
      "Evaluation. Desired return: -32.28, Desired horizon: 105.00. Reward achieved: -104.20\n",
      "Iter: 180, Loss: 1.2447\n",
      "Evaluation. Desired return: -30.35, Desired horizon: 110.00. Reward achieved: -111.74\n",
      "Iter: 190, Loss: 1.2273\n",
      "Evaluation. Desired return: -32.77, Desired horizon: 114.00. Reward achieved: -119.31\n",
      "Iter: 200, Loss: 1.2147\n",
      "Evaluation. Desired return: -28.51, Desired horizon: 120.00. Reward achieved: -171.33\n",
      "Iter: 210, Loss: 1.1925\n",
      "Evaluation. Desired return: 14.49, Desired horizon: 127.00. Reward achieved: -124.36\n",
      "Iter: 220, Loss: 1.1828\n",
      "Evaluation. Desired return: -1.27, Desired horizon: 130.00. Reward achieved: -118.53\n",
      "Iter: 230, Loss: 1.1662\n",
      "Evaluation. Desired return: 5.07, Desired horizon: 140.00. Reward achieved: -68.70\n",
      "Iter: 240, Loss: 1.1534\n",
      "Evaluation. Desired return: 45.98, Desired horizon: 160.00. Reward achieved: -125.49\n",
      "Iter: 250, Loss: 1.1399\n",
      "Evaluation. Desired return: 37.51, Desired horizon: 169.00. Reward achieved: -244.54\n",
      "Iter: 260, Loss: 1.1382\n",
      "Evaluation. Desired return: 24.64, Desired horizon: 178.00. Reward achieved: -91.70\n",
      "Iter: 270, Loss: 1.1181\n",
      "Evaluation. Desired return: 100.78, Desired horizon: 199.00. Reward achieved: -273.88\n",
      "Iter: 280, Loss: 1.1062\n",
      "Evaluation. Desired return: 78.34, Desired horizon: 234.00. Reward achieved: -143.04\n",
      "Iter: 290, Loss: 1.0823\n",
      "Evaluation. Desired return: 130.81, Desired horizon: 268.00. Reward achieved: -399.23\n",
      "Iter: 300, Loss: 1.0591\n",
      "Evaluation. Desired return: 164.61, Desired horizon: 285.00. Reward achieved: -139.74\n",
      "Iter: 310, Loss: 1.0231\n",
      "Evaluation. Desired return: 220.11, Desired horizon: 274.00. Reward achieved: -183.58\n",
      "Iter: 320, Loss: 0.9957\n",
      "Evaluation. Desired return: 205.53, Desired horizon: 265.00. Reward achieved: -76.87\n",
      "Iter: 330, Loss: 0.9661\n",
      "Evaluation. Desired return: 219.06, Desired horizon: 258.00. Reward achieved: -329.41\n",
      "Iter: 340, Loss: 0.9393\n",
      "Evaluation. Desired return: 220.72, Desired horizon: 252.00. Reward achieved: -164.86\n",
      "Iter: 350, Loss: 0.8896\n",
      "Evaluation. Desired return: 230.70, Desired horizon: 246.00. Reward achieved: -97.23\n",
      "Iter: 360, Loss: 0.8582\n",
      "Evaluation. Desired return: 243.55, Desired horizon: 244.00. Reward achieved: -76.73\n",
      "Iter: 370, Loss: 0.8133\n",
      "Evaluation. Desired return: 243.66, Desired horizon: 246.00. Reward achieved: -103.72\n",
      "Iter: 380, Loss: 0.7802\n",
      "Evaluation. Desired return: 242.00, Desired horizon: 245.00. Reward achieved: 54.65\n",
      "Iter: 390, Loss: 0.7531\n",
      "Evaluation. Desired return: 248.12, Desired horizon: 246.00. Reward achieved: -180.45\n",
      "Iter: 400, Loss: 0.7256\n",
      "Evaluation. Desired return: 251.66, Desired horizon: 244.00. Reward achieved: -74.97\n",
      "Iter: 410, Loss: 0.7078\n",
      "Evaluation. Desired return: 257.70, Desired horizon: 243.00. Reward achieved: -87.61\n",
      "Iter: 420, Loss: 0.6896\n",
      "Evaluation. Desired return: 254.25, Desired horizon: 244.00. Reward achieved: 146.47\n",
      "Iter: 430, Loss: 0.6787\n",
      "Evaluation. Desired return: 262.51, Desired horizon: 241.00. Reward achieved: 182.35\n",
      "Iter: 440, Loss: 0.6692\n",
      "Evaluation. Desired return: 261.87, Desired horizon: 243.00. Reward achieved: 183.19\n",
      "Iter: 450, Loss: 0.6690\n",
      "Evaluation. Desired return: 265.04, Desired horizon: 245.00. Reward achieved: 141.78\n",
      "Iter: 460, Loss: 0.6617\n",
      "Evaluation. Desired return: 264.28, Desired horizon: 245.00. Reward achieved: 186.75\n",
      "Iter: 470, Loss: 0.6469\n",
      "Evaluation. Desired return: 262.86, Desired horizon: 240.00. Reward achieved: 201.56\n",
      "Iter: 480, Loss: 0.6397\n",
      "Evaluation. Desired return: 267.48, Desired horizon: 239.00. Reward achieved: 163.80\n",
      "Iter: 490, Loss: 0.6313\n",
      "Evaluation. Desired return: 265.09, Desired horizon: 237.00. Reward achieved: 222.96\n",
      "Iter: 500, Loss: 0.6229\n",
      "Evaluation. Desired return: 265.95, Desired horizon: 236.00. Reward achieved: 207.15\n",
      "Iter: 510, Loss: 0.6179\n",
      "Evaluation. Desired return: 266.72, Desired horizon: 236.00. Reward achieved: 118.63\n",
      "Iter: 520, Loss: 0.6172\n",
      "Evaluation. Desired return: 270.58, Desired horizon: 237.00. Reward achieved: 197.70\n",
      "Iter: 530, Loss: 0.6121\n",
      "Evaluation. Desired return: 267.67, Desired horizon: 239.00. Reward achieved: 201.51\n",
      "Iter: 540, Loss: 0.6030\n",
      "Evaluation. Desired return: 269.37, Desired horizon: 239.00. Reward achieved: 205.91\n",
      "Iter: 550, Loss: 0.5964\n",
      "Evaluation. Desired return: 269.67, Desired horizon: 240.00. Reward achieved: 145.80\n",
      "Iter: 560, Loss: 0.5895\n",
      "Evaluation. Desired return: 268.69, Desired horizon: 237.00. Reward achieved: 214.33\n",
      "Iter: 570, Loss: 0.5902\n",
      "Evaluation. Desired return: 270.59, Desired horizon: 236.00. Reward achieved: 242.17\n",
      "Iter: 580, Loss: 0.5885\n",
      "Evaluation. Desired return: 270.30, Desired horizon: 234.00. Reward achieved: 218.10\n",
      "Iter: 590, Loss: 0.5809\n",
      "Evaluation. Desired return: 270.20, Desired horizon: 231.00. Reward achieved: 218.48\n",
      "Iter: 600, Loss: 0.5757\n",
      "Evaluation. Desired return: 272.41, Desired horizon: 230.00. Reward achieved: 227.68\n",
      "Iter: 610, Loss: 0.5735\n",
      "Evaluation. Desired return: 273.20, Desired horizon: 229.00. Reward achieved: 224.37\n",
      "Iter: 620, Loss: 0.5722\n",
      "Evaluation. Desired return: 271.42, Desired horizon: 228.00. Reward achieved: 224.08\n",
      "Iter: 630, Loss: 0.5691\n",
      "Evaluation. Desired return: 272.45, Desired horizon: 227.00. Reward achieved: 203.66\n",
      "Iter: 640, Loss: 0.5583\n",
      "Evaluation. Desired return: 273.46, Desired horizon: 226.00. Reward achieved: 229.03\n",
      "Iter: 650, Loss: 0.5601\n",
      "Evaluation. Desired return: 272.70, Desired horizon: 227.00. Reward achieved: 205.87\n",
      "Iter: 660, Loss: 0.5589\n",
      "Evaluation. Desired return: 273.82, Desired horizon: 226.00. Reward achieved: 160.61\n",
      "Iter: 670, Loss: 0.5560\n",
      "Evaluation. Desired return: 274.18, Desired horizon: 226.00. Reward achieved: 224.46\n",
      "Iter: 680, Loss: 0.5513\n",
      "Evaluation. Desired return: 275.11, Desired horizon: 227.00. Reward achieved: 246.16\n",
      "Iter: 690, Loss: 0.5435\n",
      "Evaluation. Desired return: 276.10, Desired horizon: 226.00. Reward achieved: 207.30\n",
      "Iter: 700, Loss: 0.5383\n",
      "Evaluation. Desired return: 276.22, Desired horizon: 227.00. Reward achieved: 222.26\n"
     ]
    }
   ],
   "source": [
    "behavior, buffer, learning_history = UDRL(env)"
   ]
  },
  {
   "cell_type": "code",
   "execution_count": 27,
   "metadata": {},
   "outputs": [],
   "source": [
    "# behavior.save('behavior.pth')"
   ]
  },
  {
   "cell_type": "code",
   "execution_count": 28,
   "metadata": {},
   "outputs": [],
   "source": [
    "# buffer.save('buffer.npy')"
   ]
  },
  {
   "cell_type": "code",
   "execution_count": 29,
   "metadata": {},
   "outputs": [],
   "source": [
    "# np.save('history.npy', learning_history)"
   ]
  },
  {
   "cell_type": "code",
   "execution_count": null,
   "metadata": {},
   "outputs": [],
   "source": [
    "# _, _ = UDRL(env, buffer, behavior)"
   ]
  },
  {
   "cell_type": "code",
   "execution_count": 16,
   "metadata": {},
   "outputs": [
    {
     "name": "stdout",
     "output_type": "stream",
     "text": [
      "\n",
      "Evaluation. Desired return: 250.00, Desired horizon: 230.00. Reward achieved: 245.23\n"
     ]
    },
    {
     "data": {
      "text/plain": [
       "245.23234179631487"
      ]
     },
     "execution_count": 16,
     "metadata": {},
     "output_type": "execute_result"
    }
   ],
   "source": [
    "evaluate_agent(env, behavior, [250, 230], render=True)"
   ]
  },
  {
   "cell_type": "code",
   "execution_count": 25,
   "metadata": {},
   "outputs": [],
   "source": [
    "# env_with_monitor = gym.wrappers.Monitor(env, \"videos\")"
   ]
  },
  {
   "cell_type": "code",
   "execution_count": 26,
   "metadata": {},
   "outputs": [],
   "source": [
    "# evaluate_agent(env_with_monitor, behavior, [250, 230], render=True)"
   ]
  },
  {
   "cell_type": "markdown",
   "metadata": {},
   "source": [
    "# Results"
   ]
  },
  {
   "cell_type": "code",
   "execution_count": 30,
   "metadata": {},
   "outputs": [],
   "source": [
    "import matplotlib.pyplot as plt"
   ]
  },
  {
   "cell_type": "code",
   "execution_count": 46,
   "metadata": {},
   "outputs": [],
   "source": [
    "desired_return = [h['desired_return'] for h in learning_history]\n",
    "desired_horizon = [h['desired_horizon'] for h in learning_history]\n",
    "training_loss = [h['training_loss'] for h in learning_history]\n",
    "actual_return = [h['actual_return'] for h in learning_history]"
   ]
  },
  {
   "cell_type": "code",
   "execution_count": 47,
   "metadata": {},
   "outputs": [
    {
     "data": {
      "text/plain": [
       "Text(0.5, 1.0, 'Actual return')"
      ]
     },
     "execution_count": 47,
     "metadata": {},
     "output_type": "execute_result"
    },
    {
     "data": {
      "image/png": "[encoded data removed]",
      "text/plain": [
       "<Figure size 1152x720 with 4 Axes>"
      ]
     },
     "metadata": {
      "needs_background": "light"
     },
     "output_type": "display_data"
    }
   ],
   "source": [
    "fig, axs = plt.subplots(2, 2, figsize=(16, 10))\n",
    "axs[0, 0].plot(desired_return)\n",
    "axs[0, 0].set_title('Desired return')\n",
    "axs[0, 1].plot(desired_horizon)\n",
    "axs[0, 1].set_title('Desired horizon')\n",
    "axs[1, 0].plot(training_loss)\n",
    "axs[1, 0].set_title('Training loss')\n",
    "axs[1, 1].plot(actual_return)\n",
    "axs[1, 1].set_title('Actual return')"
   ]
  },
  {
   "cell_type": "code",
   "execution_count": 51,
   "metadata": {},
   "outputs": [
    {
     "data": {
      "text/plain": [
       "<matplotlib.legend.Legend at 0x7fd8f89a38d0>"
      ]
     },
     "execution_count": 51,
     "metadata": {},
     "output_type": "execute_result"
    },
    {
     "data": {
      "image/png": "[encoded data removed]",
      "text/plain": [
       "<Figure size 1152x576 with 1 Axes>"
      ]
     },
     "metadata": {
      "needs_background": "light"
     },
     "output_type": "display_data"
    }
   ],
   "source": [
    "plt.subplots(figsize=(16, 8))\n",
    "plt.plot(desired_return)\n",
    "plt.plot(actual_return)\n",
    "plt.legend(['Desired return', 'Actual return'])"
   ]
  },
  {
   "cell_type": "code",
   "execution_count": 62,
   "metadata": {},
   "outputs": [],
   "source": [
    "from IPython.display import HTML"
   ]
  },
  {
   "cell_type": "code",
   "execution_count": 63,
   "metadata": {},
   "outputs": [
    {
     "data": {
      "text/html": [
       "\n",
       "<p style=\"text-align: center\">\n",
       "    <video width=\"600\" controls>\n",
       "        <source src=\"videos/LunarLander_with_UDRL_3.mp4\" type=\"video/mp4\">\n",
       "    </video>\n",
       "<p>\n"
      ],
      "text/plain": [
       "<IPython.core.display.HTML object>"
      ]
     },
     "execution_count": 63,
     "metadata": {},
     "output_type": "execute_result"
    }
   ],
   "source": [
    "\n",
    "HTML(\"\"\"\n",
    "<p style=\"text-align: center\">\n",
    "    <video width=\"600\" controls>\n",
    "        <source src=\"videos/LunarLander_with_UDRL_3.mp4\" type=\"video/mp4\">\n",
    "    </video>\n",
    "<p>\n",
    "\"\"\")"
   ]
  },
  {
   "cell_type": "code",
   "execution_count": 64,
   "metadata": {},
   "outputs": [
    {
     "data": {
      "text/html": [
       "\n",
       "<p style=\"text-align: center\">\n",
       "    <video width=\"600\" controls>\n",
       "        <source src=\"videos/LunarLander_with_UDRL_4.mp4\" type=\"video/mp4\">\n",
       "    </video>\n",
       "<p>\n"
      ],
      "text/plain": [
       "<IPython.core.display.HTML object>"
      ]
     },
     "execution_count": 64,
     "metadata": {},
     "output_type": "execute_result"
    }
   ],
   "source": [
    "HTML(\"\"\"\n",
    "<p style=\"text-align: center\">\n",
    "    <video width=\"600\" controls>\n",
    "        <source src=\"videos/LunarLander_with_UDRL_4.mp4\" type=\"video/mp4\">\n",
    "    </video>\n",
    "<p>\n",
    "\"\"\")"
   ]
  },
  {
   "cell_type": "code",
   "execution_count": null,
   "metadata": {},
   "outputs": [],
   "source": []
  }
 ],
 "metadata": {
  "kernelspec": {
   "display_name": "Python 3",
   "language": "python",
   "name": "python3"
  },
  "language_info": {
   "codemirror_mode": {
    "name": "ipython",
    "version": 3
   },
   "file_extension": ".py",
   "mimetype": "text/x-python",
   "name": "python",
   "nbconvert_exporter": "python",
   "pygments_lexer": "ipython3",
   "version": "3.6.8"
  }
 },
 "nbformat": 4,
 "nbformat_minor": 4
}
